{
 "cells": [
  {
   "cell_type": "markdown",
   "source": [
    "Elementy Sztucznej Inteligencji\n",
    "Informatyka i Ekonometria, IV semestr, WZ, AGH.\n",
    "\n",
    "Grupa 3\n",
    "\"Obliczanie szans na choroby wieńcowe/atak serca\"\n",
    "Paweł Brodziak\n",
    "Magdalena Leśniak\n",
    "\n",
    "Tworzenie sieci neuronowej z użyciem funkcji Gaussa"
   ],
   "metadata": {
    "collapsed": false,
    "pycharm": {
     "name": "#%% md\n",
     "is_executing": true
    }
   }
  },
  {
   "cell_type": "code",
   "execution_count": 14,
   "outputs": [],
   "source": [
    "import pandas as pd\n",
    "import matplotlib.pyplot as plt\n",
    "import numpy as np\n",
    "import time"
   ],
   "metadata": {
    "collapsed": false,
    "pycharm": {
     "name": "#%%\n"
    }
   }
  },
  {
   "cell_type": "code",
   "execution_count": 15,
   "outputs": [],
   "source": [
    "#Pobranie danych z pliku Excel\n",
    "df = pd.read_excel('data_heart_disease.xlsx')"
   ],
   "metadata": {
    "collapsed": false,
    "pycharm": {
     "name": "#%%\n"
    }
   }
  },
  {
   "cell_type": "code",
   "execution_count": 16,
   "outputs": [],
   "source": [
    "#Podział danych na część uczącą i testową (80:20)\n",
    "df_learn = df.iloc[:int(0.8*len(df)),:]\n",
    "df_test = df.iloc[int(0.8*len(df)):,:]"
   ],
   "metadata": {
    "collapsed": false,
    "pycharm": {
     "name": "#%%\n"
    }
   }
  },
  {
   "cell_type": "code",
   "execution_count": 17,
   "outputs": [],
   "source": [
    "#Zamiana danych na dane wejściowe X i dane docelowe (wyniki) y w formacie numpy\n",
    "X = np.array([df_learn.HighBP,df_learn.HighChol,df_learn.CholCheck,df_learn.BMI,df_learn.Smoker,df_learn.Stroke,df_learn.Diabetes,df_learn.PhysActivity,df_learn.Fruits,df_learn.Veggies,df_learn.HvyAlcoholConsump,df_learn.DiffWalk,df_learn.Sex,df_learn.Age]).transpose()\n",
    "\n",
    "df_learn_y = pd.DataFrame(df_learn.HeartDiseaseorAttack)\n",
    "y = np.array(df_learn_y)\n",
    "\n",
    "X = X/np.amax(X, axis=0) #Standaryzacja danych wejściowych (0-1)"
   ],
   "metadata": {
    "collapsed": false,
    "pycharm": {
     "name": "#%%\n"
    }
   }
  },
  {
   "cell_type": "code",
   "execution_count": 18,
   "outputs": [],
   "source": [
    "#Zamiana danych na format numpy dla X i y testowych\n",
    "test_X = np.array([df_test.HighBP,df_test.HighChol,df_test.CholCheck,df_test.BMI,df_test.Smoker,df_test.Stroke,df_test.Diabetes,df_test.PhysActivity,df_test.Fruits,df_test.Veggies,df_test.HvyAlcoholConsump,df_test.DiffWalk,df_test.Sex,df_test.Age]).transpose()\n",
    "\n",
    "df_test_y = pd.DataFrame(df_test.HeartDiseaseorAttack)\n",
    "test_y = np.array(df_test_y)\n",
    "\n",
    "test_X = test_X/np.amax(test_X, axis=0) #Standaryzacja danych testowych (0-1)"
   ],
   "metadata": {
    "collapsed": false,
    "pycharm": {
     "name": "#%%\n"
    }
   }
  },
  {
   "cell_type": "code",
   "execution_count": 19,
   "outputs": [],
   "source": [
    "#Stworzenie klasy sieci neuronowej\n",
    "class Neural_Network(object):\n",
    "    def __init__(self, Lambda=0):\n",
    "        #Definiowanie globalnych parametrów sieci\n",
    "        self.inputLayerSize = 14\n",
    "        self.outputLayerSize = 1\n",
    "        self.firstHiddenLayerSize = 10\n",
    "        self.secondHiddenLayerSize = 6\n",
    "\n",
    "        #Wagi (parametry - pierwsze losowe)\n",
    "        self.W1 = np.random.randn(self.inputLayerSize, self.firstHiddenLayerSize)\n",
    "        self.W2 = np.random.randn(self.firstHiddenLayerSize, self.secondHiddenLayerSize)\n",
    "        self.W3 = np.random.randn(self.secondHiddenLayerSize, self.outputLayerSize)\n",
    "\n",
    "        #Parametr regularyzujący Lambda\n",
    "        self.Lambda = Lambda\n",
    "\n",
    "    def sigmoid(self, z):\n",
    "        #Zastosowuje funkcję aktywacyjną Sigmoid\n",
    "        return np.exp(-z**2)\n",
    "\n",
    "    def sigmoidPrime(self,z):\n",
    "        #Pochodna funkcji Sigmoid - oblicza gradient funkcji\n",
    "        return -2*z*np.exp(-z**2)\n",
    "\n",
    "    def predict(self, X):\n",
    "        #Funkcja obliczająca predykcje y (y-hat) na podstawie iloczynu skalarnego danych wejściowych i wag pomiędzy neuronami\n",
    "        self.z1 = np.dot(X, self.W1)\n",
    "        self.s1 = self.sigmoid(self.z1)\n",
    "        self.z2 = np.dot(self.s1, self.W2)\n",
    "        self.s2 = self.sigmoid(self.z2)\n",
    "        self.z3 = np.dot(self.s2, self.W3)\n",
    "        y_hat = self.sigmoid(self.z3)\n",
    "        return y_hat\n",
    "\n",
    "    def costFunction(self, X, y):\n",
    "        #Oblicza koszt J dla podanych X,y korzystając z kwadratu błędów oraz dodaje regularyzację z użyciem wag zapisanych w klasie.\n",
    "        self.y_hat = self.predict(X)\n",
    "        J = 0.5*np.sum((y-self.y_hat)**2)/X.shape[0] + (self.Lambda/2)*(np.sum(self.W1**2)+np.sum(self.W2**2)+np.sum(self.W3**2))\n",
    "        return J\n",
    "\n",
    "    def gradientFunction(self, X, y):\n",
    "        #Oblicza pochodną dla X oraz y uwzględniając wagi zapisane w klasie\n",
    "        self.y_hat = self.predict(X)\n",
    "\n",
    "        #Dodanie gradientu regularyzacji w celu polepszenia jakości rozwiązania\n",
    "\n",
    "        d3 = np.multiply(-(y-self.y_hat), self.sigmoidPrime(self.z3))\n",
    "        dJW3 = np.dot(self.s2.T, d3)/X.shape[0] + self.Lambda*self.W3\n",
    "\n",
    "        d2 = np.dot(d3, self.W3.T)*self.sigmoidPrime(self.z2)\n",
    "        dJW2 = np.dot(self.s1.T, d2)/X.shape[0] + self.Lambda*self.W2\n",
    "\n",
    "        d1 = np.dot(d2, self.W2.T)*self.sigmoidPrime(self.z1)\n",
    "        dJW1 = np.dot(X.T, d1)/X.shape[0] + self.Lambda*self.W1\n",
    "\n",
    "        return dJW1, dJW2, dJW3\n",
    "\n",
    "    def saveErrors(self):\n",
    "        #Zbiór funkcji podający nowe paramtery wag do sieci i dodający błedy obliczone po wybranych iteracjach\n",
    "        self.J.append(self.costFunction(self.X, self.y))\n",
    "        self.testJ.append(self.costFunction(self.testX, self.testY))\n",
    "\n",
    "    def train(self, trainX, trainY, testX, testY, iterations):\n",
    "        #Tworzenie lokalnych zmiennych używanych przez funkcje klasy\n",
    "        self.X = trainX\n",
    "        self.y = trainY\n",
    "        self.testX = testX\n",
    "        self.testY = testY\n",
    "\n",
    "        #Stworzenie pustych list aby zapisywać koszty obliczane co 100 iteracji\n",
    "        self.J = []\n",
    "        self.testJ = []\n",
    "\n",
    "        batch_size = 100\n",
    "        n_obs = X.shape[0]\n",
    "\n",
    "        xy = np.c_[X.reshape(n_obs, -1), y.reshape(n_obs, 1)]\n",
    "\n",
    "        seed = None\n",
    "        rng = np.random.default_rng(seed=seed)\n",
    "\n",
    "        for _ in range(iterations):\n",
    "            rng.shuffle(xy)\n",
    "            for start in range(0, n_obs, batch_size):\n",
    "                stop = start + batch_size\n",
    "                x_batch, y_batch = xy[start:stop, :-1], xy[start:stop, -1:]\n",
    "                dW1, dW2, dW3 = self.gradientFunction(x_batch,y_batch)\n",
    "                self.W1 = self.W1 - (dW1 * self.Lambda)\n",
    "                self.W2 = self.W2 - (dW2 * self.Lambda)\n",
    "                self.W3 = self.W3 - (dW3 * self.Lambda)\n",
    "            self.saveErrors()\n",
    "\n",
    "        currentJ = self.costFunction(self.X,self.y) / self.Lambda\n",
    "        current_testJ = self.costFunction(self.testX,self.testY) / self.Lambda\n",
    "        result = f'''Po {iterations} iteracjach, błąd predykcji sieci neuronowej wynosi {currentJ} dla danych uczących oraz {current_testJ} dla danych testowych'''\n",
    "\n",
    "        return result"
   ],
   "metadata": {
    "collapsed": false,
    "pycharm": {
     "name": "#%%\n"
    }
   }
  },
  {
   "cell_type": "code",
   "execution_count": 20,
   "outputs": [],
   "source": [
    "NN = Neural_Network(Lambda = 0.001)"
   ],
   "metadata": {
    "collapsed": false,
    "pycharm": {
     "name": "#%%\n"
    }
   }
  },
  {
   "cell_type": "code",
   "execution_count": 21,
   "outputs": [
    {
     "name": "stdout",
     "output_type": "stream",
     "text": [
      "\n",
      "Po 3000 iteracjach, błąd predykcji sieci neuronowej wynosi 38.448634923247965 dla danych uczących oraz 37.831615522022204 dla danych testowych\n",
      "Trening zajął 1587.8 sekund\n"
     ]
    }
   ],
   "source": [
    "start_time = time.time()\n",
    "result = NN.train(X,y, test_X, test_y, 3000)\n",
    "print(f'''\n",
    "{result}\n",
    "Trening zajął %.6s sekund'''% (time.time() - start_time))"
   ],
   "metadata": {
    "collapsed": false,
    "pycharm": {
     "name": "#%%\n"
    }
   }
  },
  {
   "cell_type": "code",
   "execution_count": 22,
   "outputs": [
    {
     "data": {
      "text/plain": "<Figure size 432x288 with 1 Axes>",
      "image/png": "[encoded data removed]"
     },
     "metadata": {
      "needs_background": "light"
     },
     "output_type": "display_data"
    }
   ],
   "source": [
    "plt.plot(NN.J, label='Zbiór do nauki')\n",
    "plt.plot(NN.testJ, label='Zbiór testowy')\n",
    "plt.grid(1)\n",
    "plt.title('Zmiany w koszcie sieci z kolejnymi iteracjami')\n",
    "plt.xlabel('Iteracje')\n",
    "plt.ylabel('Koszt')\n",
    "plt.legend()\n",
    "plt.show()"
   ],
   "metadata": {
    "collapsed": false,
    "pycharm": {
     "name": "#%%\n"
    }
   }
  },
  {
   "cell_type": "code",
   "execution_count": 23,
   "outputs": [
    {
     "data": {
      "text/plain": "array([[0.03132342],\n       [0.51089022],\n       [0.28339246],\n       ...,\n       [0.02138251],\n       [0.06756912],\n       [0.11494615]])"
     },
     "execution_count": 23,
     "metadata": {},
     "output_type": "execute_result"
    }
   ],
   "source": [
    "NN.predict(test_X)"
   ],
   "metadata": {
    "collapsed": false,
    "pycharm": {
     "name": "#%%\n"
    }
   }
  },
  {
   "cell_type": "code",
   "execution_count": 24,
   "outputs": [
    {
     "data": {
      "text/plain": "array([[0.],\n       [1.],\n       [0.],\n       ...,\n       [0.],\n       [0.],\n       [1.]])"
     },
     "execution_count": 24,
     "metadata": {},
     "output_type": "execute_result"
    }
   ],
   "source": [
    "test_y"
   ],
   "metadata": {
    "collapsed": false,
    "pycharm": {
     "name": "#%%\n"
    }
   }
  },
  {
   "cell_type": "code",
   "execution_count": 27,
   "outputs": [
    {
     "name": "stdout",
     "output_type": "stream",
     "text": [
      "Dokladnosc testowa predykcji 90.88615578681804%\n"
     ]
    }
   ],
   "source": [
    "test_pred_y = NN.predict(test_X)\n",
    "print(f\"Dokladnosc testowa predykcji {np.mean(np.round(test_pred_y) == test_y)*100}%\")"
   ],
   "metadata": {
    "collapsed": false,
    "pycharm": {
     "name": "#%%\n"
    }
   }
  },
  {
   "cell_type": "code",
   "execution_count": 25,
   "outputs": [
    {
     "data": {
      "text/plain": "array([0.31604829])"
     },
     "execution_count": 25,
     "metadata": {},
     "output_type": "execute_result"
    }
   ],
   "source": [
    "test = np.array([0,1,1,0.4,0,1,0,0,0,0,1,1,1,0.7]) ## Predykcja dla testowej osoby o wybranych cechach\n",
    "NN.predict(test)"
   ],
   "metadata": {
    "collapsed": false,
    "pycharm": {
     "name": "#%%\n"
    }
   }
  }
 ],
 "metadata": {
  "kernelspec": {
   "display_name": "Python 3",
   "language": "python",
   "name": "python3"
  },
  "language_info": {
   "codemirror_mode": {
    "name": "ipython",
    "version": 2
   },
   "file_extension": ".py",
   "mimetype": "text/x-python",
   "name": "python",
   "nbconvert_exporter": "python",
   "pygments_lexer": "ipython2",
   "version": "2.7.6"
  }
 },
 "nbformat": 4,
 "nbformat_minor": 0
}